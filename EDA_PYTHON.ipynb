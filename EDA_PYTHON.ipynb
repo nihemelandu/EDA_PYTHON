{
  "nbformat": 4,
  "nbformat_minor": 0,
  "metadata": {
    "colab": {
      "provenance": [],
      "authorship_tag": "ABX9TyNOieZG/LN7rVhAn/6skxR4",
      "include_colab_link": true
    },
    "kernelspec": {
      "name": "python3",
      "display_name": "Python 3"
    },
    "language_info": {
      "name": "python"
    }
  },
  "cells": [
    {
      "cell_type": "markdown",
      "metadata": {
        "id": "view-in-github",
        "colab_type": "text"
      },
      "source": [
        "<a href=\"https://colab.research.google.com/github/nihemelandu/EDA_PYTHON/blob/main/EDA_PYTHON.ipynb\" target=\"_parent\"><img src=\"https://colab.research.google.com/assets/colab-badge.svg\" alt=\"Open In Colab\"/></a>"
      ]
    },
    {
      "cell_type": "markdown",
      "source": [
        "Libraries"
      ],
      "metadata": {
        "id": "3VI7hkRMlPzC"
      }
    },
    {
      "cell_type": "code",
      "execution_count": 4,
      "metadata": {
        "id": "zQvDdeyyjwBS"
      },
      "outputs": [],
      "source": [
        "import pandas as pd\n",
        "import numpy as np\n",
        "import matplotlib.pyplot as plt\n",
        "import seaborn as sns\n",
        "import calmap"
      ]
    },
    {
      "cell_type": "markdown",
      "source": [
        "Data Source is from kaggle/aungpyaep/supermarket-sales\n",
        "\n",
        "\n",
        "---\n",
        "\n",
        "\n",
        "The dataset contains three months of historical sales data from a supermarket with three branches in a populated city."
      ],
      "metadata": {
        "id": "PVb9xSTAl4ha"
      }
    }
  ]
}